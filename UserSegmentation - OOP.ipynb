{
 "cells": [
  {
   "cell_type": "code",
   "execution_count": 1,
   "metadata": {},
   "outputs": [
    {
     "name": "stderr",
     "output_type": "stream",
     "text": [
      "C:\\Users\\srbol\\AppData\\Local\\Temp\\ipykernel_22752\\1465643168.py:1: DeprecationWarning: \n",
      "Pyarrow will become a required dependency of pandas in the next major release of pandas (pandas 3.0),\n",
      "(to allow more performant data types, such as the Arrow string type, and better interoperability with other libraries)\n",
      "but was not found to be installed on your system.\n",
      "If this would cause problems for you,\n",
      "please provide us feedback at https://github.com/pandas-dev/pandas/issues/54466\n",
      "        \n",
      "  import pandas as pd\n"
     ]
    }
   ],
   "source": [
    "import pandas as pd\n",
    "import numpy as np\n",
    "import seaborn as sns\n",
    "import matplotlib.pyplot as plt\n",
    "\n",
    "from sklearn.model_selection import train_test_split\n",
    "from sklearn import metrics\n",
    "from sklearn.metrics import accuracy_score, recall_score, roc_auc_score, f1_score, log_loss, precision_score, classification_report, confusion_matrix\n",
    "import warnings\n",
    "from statistics import mode, mean, median\n",
    "from sklearn.preprocessing import OneHotEncoder\n",
    "from sklearn.tree import DecisionTreeClassifier\n",
    "\n",
    "warnings.filterwarnings('ignore')"
   ]
  },
  {
   "cell_type": "code",
   "execution_count": 2,
   "metadata": {},
   "outputs": [],
   "source": [
    "class dataImporting:\n",
    "    def __init__(self, file_path):\n",
    "        self.file_path = file_path\n",
    "        self.data = None\n",
    "        self.output_df = None\n",
    "        self.input_df = None\n",
    "    \n",
    "    def loadData(self) :\n",
    "        self.data = pd.read_csv(self.file_path, delimiter = ';')\n",
    "\n",
    "    def valueCounts(self, target_column):\n",
    "        return self.data[target_column].value_counts()\n",
    "    \n",
    "    def inputOutput(self, target_column):\n",
    "        self.input_df = self.data.drop(columns = target_column)\n",
    "        self.output_df = self.data[target_column]\n",
    "    \n",
    "    def outlierCheck(self, target_column):\n",
    "        boxplot = self.data.boxplot(column = [target_column])\n",
    "        plt.show()\n",
    "\n",
    "    def naCheck(self, target_column):\n",
    "        print(self.data[target_column].isna().sum())"
   ]
  },
  {
   "cell_type": "code",
   "execution_count": 3,
   "metadata": {},
   "outputs": [],
   "source": [
    "from sklearn.preprocessing import LabelEncoder\n",
    "\n",
    "class preprocess:\n",
    "    \n",
    "    def __init__(self, input_df, output_df):\n",
    "        self.output_df = output_df\n",
    "        self.input_df = input_df\n",
    "        self.X_train = None\n",
    "        self.X_test = None\n",
    "        self.y_train = None\n",
    "        self.y_test = None\n",
    "        self.fill_value = None\n",
    "\n",
    "    def split(self):\n",
    "        self.X_train, self.X_test, self.y_train, self.y_test = train_test_split(self.input_df, self.output_df, random_state=42, test_size=0.2)\n",
    "        print('X_train :', self.X_train.shape)    \n",
    "        print('X_test :', self.X_test.shape)    \n",
    "        print('y_train :', self.y_train.shape)    \n",
    "        print('y_test :', self.y_test.shape)     \n",
    "\n",
    "    def labelEncoder(self, target_column):\n",
    "        self.X_train[target_column] = LabelEncoder().fit_transform(self.X_train[target_column])\n",
    "        self.X_test[target_column] = LabelEncoder().fit_transform(self.X_test[target_column])\n",
    "\n",
    "    def replaceNA(self, target_column, method):\n",
    "        if method == 'mean' :\n",
    "            fill_value = self.X_train[target_column].mean()\n",
    "        elif method == 'median' :\n",
    "            fill_value = np.nanmedian(self.X_train[target_column])\n",
    "        elif method == 'mode' :\n",
    "            fill_value = self.X_train(self.X_train[target_column]).mode()[0]\n",
    "        else:\n",
    "            return None\n",
    "\n",
    "        self.X_train[target_column].fillna(fill_value, inplace = True)\n",
    "        self.X_test[target_column].fillna(fill_value, inplace = True)\n",
    "\n",
    "    \n"
   ]
  },
  {
   "cell_type": "code",
   "execution_count": 4,
   "metadata": {},
   "outputs": [],
   "source": [
    "class FeatureEncoding:\n",
    "\n",
    "    def __init__(self, X_train, X_test, y_train, y_test):\n",
    "        self.X_train =  X_train\n",
    "        self.X_test = X_test\n",
    "        self.y_train = y_train\n",
    "        self.y_test = y_test\n",
    "\n",
    "    def Encoding(self, target_column):\n",
    "        self.X_train = pd.get_dummies(self.X_train, columns = [target_column])\n",
    "        self.X_test = pd.get_dummies(self.X_test, columns = [target_column])\n",
    "\n",
    "    def replacingCategorical(self, encoded, encodeTest):\n",
    "        self.X_train.replace(encoded, inplace = True)\n",
    "        self.X_test.replace(encodeTest, inplace = True)"
   ]
  },
  {
   "cell_type": "code",
   "execution_count": 5,
   "metadata": {},
   "outputs": [],
   "source": [
    "class Model:\n",
    "    def __init__(self, X_train, X_test, y_train, y_test):\n",
    "        self.X_train = X_train\n",
    "        self.X_test = X_test\n",
    "        self.y_train = y_train\n",
    "        self.y_test = y_test\n",
    "        self.model = None\n",
    "        self.y_pred = None\n",
    "    \n",
    "    def evaluation(self):\n",
    "        y_pred = self.model.predict(self.X_test)\n",
    "        print(\"\\nClassification Report\\n\")\n",
    "        print(classification_report(self.y_test, y_pred, target_names=['A', 'B', 'C', 'D']))\n",
    "        \n",
    "    def DecisionTree(self):\n",
    "        self.model = DecisionTreeClassifier()\n",
    "        self.model.fit(self.X_train, self.y_train)\n",
    "        self.y_pred = self.model.predict(self.X_test)\n",
    "    \n",
    "    def report(self):\n",
    "        print(classification_report(self.y_test, self.y_pred, target_names=['A', 'B', 'C','D']))\n"
   ]
  },
  {
   "cell_type": "markdown",
   "metadata": {},
   "source": [
    "----------------------------------------------"
   ]
  },
  {
   "cell_type": "markdown",
   "metadata": {},
   "source": [
    "Data load & overview"
   ]
  },
  {
   "cell_type": "code",
   "execution_count": 6,
   "metadata": {},
   "outputs": [
    {
     "data": {
      "text/html": [
       "<div>\n",
       "<style scoped>\n",
       "    .dataframe tbody tr th:only-of-type {\n",
       "        vertical-align: middle;\n",
       "    }\n",
       "\n",
       "    .dataframe tbody tr th {\n",
       "        vertical-align: top;\n",
       "    }\n",
       "\n",
       "    .dataframe thead th {\n",
       "        text-align: right;\n",
       "    }\n",
       "</style>\n",
       "<table border=\"1\" class=\"dataframe\">\n",
       "  <thead>\n",
       "    <tr style=\"text-align: right;\">\n",
       "      <th></th>\n",
       "      <th>ID</th>\n",
       "      <th>Gender</th>\n",
       "      <th>Ever_Married</th>\n",
       "      <th>Age</th>\n",
       "      <th>Graduated</th>\n",
       "      <th>Profession</th>\n",
       "      <th>Work_Experience</th>\n",
       "      <th>Spending_Score</th>\n",
       "      <th>Family_Size</th>\n",
       "    </tr>\n",
       "  </thead>\n",
       "  <tbody>\n",
       "    <tr>\n",
       "      <th>0</th>\n",
       "      <td>462809</td>\n",
       "      <td>Male</td>\n",
       "      <td>No</td>\n",
       "      <td>22</td>\n",
       "      <td>No</td>\n",
       "      <td>Healthcare</td>\n",
       "      <td>1.0</td>\n",
       "      <td>Low</td>\n",
       "      <td>4.0</td>\n",
       "    </tr>\n",
       "    <tr>\n",
       "      <th>1</th>\n",
       "      <td>462643</td>\n",
       "      <td>Female</td>\n",
       "      <td>Yes</td>\n",
       "      <td>38</td>\n",
       "      <td>Yes</td>\n",
       "      <td>Engineer</td>\n",
       "      <td>NaN</td>\n",
       "      <td>Average</td>\n",
       "      <td>3.0</td>\n",
       "    </tr>\n",
       "    <tr>\n",
       "      <th>2</th>\n",
       "      <td>466315</td>\n",
       "      <td>Female</td>\n",
       "      <td>Yes</td>\n",
       "      <td>67</td>\n",
       "      <td>Yes</td>\n",
       "      <td>Engineer</td>\n",
       "      <td>1.0</td>\n",
       "      <td>Low</td>\n",
       "      <td>1.0</td>\n",
       "    </tr>\n",
       "    <tr>\n",
       "      <th>3</th>\n",
       "      <td>461735</td>\n",
       "      <td>Male</td>\n",
       "      <td>Yes</td>\n",
       "      <td>67</td>\n",
       "      <td>Yes</td>\n",
       "      <td>Lawyer</td>\n",
       "      <td>0.0</td>\n",
       "      <td>High</td>\n",
       "      <td>2.0</td>\n",
       "    </tr>\n",
       "    <tr>\n",
       "      <th>4</th>\n",
       "      <td>462669</td>\n",
       "      <td>Female</td>\n",
       "      <td>Yes</td>\n",
       "      <td>40</td>\n",
       "      <td>Yes</td>\n",
       "      <td>Entertainment</td>\n",
       "      <td>NaN</td>\n",
       "      <td>High</td>\n",
       "      <td>6.0</td>\n",
       "    </tr>\n",
       "    <tr>\n",
       "      <th>...</th>\n",
       "      <td>...</td>\n",
       "      <td>...</td>\n",
       "      <td>...</td>\n",
       "      <td>...</td>\n",
       "      <td>...</td>\n",
       "      <td>...</td>\n",
       "      <td>...</td>\n",
       "      <td>...</td>\n",
       "      <td>...</td>\n",
       "    </tr>\n",
       "    <tr>\n",
       "      <th>8063</th>\n",
       "      <td>464018</td>\n",
       "      <td>Male</td>\n",
       "      <td>No</td>\n",
       "      <td>22</td>\n",
       "      <td>No</td>\n",
       "      <td>NaN</td>\n",
       "      <td>0.0</td>\n",
       "      <td>Low</td>\n",
       "      <td>7.0</td>\n",
       "    </tr>\n",
       "    <tr>\n",
       "      <th>8064</th>\n",
       "      <td>464685</td>\n",
       "      <td>Male</td>\n",
       "      <td>No</td>\n",
       "      <td>35</td>\n",
       "      <td>No</td>\n",
       "      <td>Executive</td>\n",
       "      <td>3.0</td>\n",
       "      <td>Low</td>\n",
       "      <td>4.0</td>\n",
       "    </tr>\n",
       "    <tr>\n",
       "      <th>8065</th>\n",
       "      <td>465406</td>\n",
       "      <td>Female</td>\n",
       "      <td>No</td>\n",
       "      <td>33</td>\n",
       "      <td>Yes</td>\n",
       "      <td>Healthcare</td>\n",
       "      <td>1.0</td>\n",
       "      <td>Low</td>\n",
       "      <td>1.0</td>\n",
       "    </tr>\n",
       "    <tr>\n",
       "      <th>8066</th>\n",
       "      <td>467299</td>\n",
       "      <td>Female</td>\n",
       "      <td>No</td>\n",
       "      <td>27</td>\n",
       "      <td>Yes</td>\n",
       "      <td>Healthcare</td>\n",
       "      <td>1.0</td>\n",
       "      <td>Low</td>\n",
       "      <td>4.0</td>\n",
       "    </tr>\n",
       "    <tr>\n",
       "      <th>8067</th>\n",
       "      <td>461879</td>\n",
       "      <td>Male</td>\n",
       "      <td>Yes</td>\n",
       "      <td>37</td>\n",
       "      <td>Yes</td>\n",
       "      <td>Executive</td>\n",
       "      <td>0.0</td>\n",
       "      <td>Average</td>\n",
       "      <td>3.0</td>\n",
       "    </tr>\n",
       "  </tbody>\n",
       "</table>\n",
       "<p>8068 rows × 9 columns</p>\n",
       "</div>"
      ],
      "text/plain": [
       "          ID  Gender Ever_Married  Age Graduated     Profession  \\\n",
       "0     462809    Male           No   22        No     Healthcare   \n",
       "1     462643  Female          Yes   38       Yes       Engineer   \n",
       "2     466315  Female          Yes   67       Yes       Engineer   \n",
       "3     461735    Male          Yes   67       Yes         Lawyer   \n",
       "4     462669  Female          Yes   40       Yes  Entertainment   \n",
       "...      ...     ...          ...  ...       ...            ...   \n",
       "8063  464018    Male           No   22        No            NaN   \n",
       "8064  464685    Male           No   35        No      Executive   \n",
       "8065  465406  Female           No   33       Yes     Healthcare   \n",
       "8066  467299  Female           No   27       Yes     Healthcare   \n",
       "8067  461879    Male          Yes   37       Yes      Executive   \n",
       "\n",
       "      Work_Experience Spending_Score  Family_Size  \n",
       "0                 1.0            Low          4.0  \n",
       "1                 NaN        Average          3.0  \n",
       "2                 1.0            Low          1.0  \n",
       "3                 0.0           High          2.0  \n",
       "4                 NaN           High          6.0  \n",
       "...               ...            ...          ...  \n",
       "8063              0.0            Low          7.0  \n",
       "8064              3.0            Low          4.0  \n",
       "8065              1.0            Low          1.0  \n",
       "8066              1.0            Low          4.0  \n",
       "8067              0.0        Average          3.0  \n",
       "\n",
       "[8068 rows x 9 columns]"
      ]
     },
     "execution_count": 6,
     "metadata": {},
     "output_type": "execute_result"
    }
   ],
   "source": [
    "#Data reading\n",
    "dataLoad = dataImporting('user_segmentation.csv')\n",
    "dataLoad.loadData()\n",
    "\n",
    "#Defining input and output\n",
    "dataLoad.inputOutput('Segmentation')\n",
    "\n",
    "X = dataLoad.input_df\n",
    "y = dataLoad.output_df\n",
    "\n",
    "#Testing data berhasil dibaca atau tidak\n",
    "X\n"
   ]
  },
  {
   "cell_type": "code",
   "execution_count": 7,
   "metadata": {},
   "outputs": [
    {
     "data": {
      "text/plain": [
       "Graduated\n",
       "Yes    4968\n",
       "No     3022\n",
       "Name: count, dtype: int64"
      ]
     },
     "execution_count": 7,
     "metadata": {},
     "output_type": "execute_result"
    }
   ],
   "source": [
    "dataLoad.valueCounts('Graduated')"
   ]
  },
  {
   "cell_type": "code",
   "execution_count": 8,
   "metadata": {},
   "outputs": [
    {
     "data": {
      "text/plain": [
       "Spending_Score\n",
       "Low        4878\n",
       "Average    1974\n",
       "High       1216\n",
       "Name: count, dtype: int64"
      ]
     },
     "execution_count": 8,
     "metadata": {},
     "output_type": "execute_result"
    }
   ],
   "source": [
    "dataLoad.valueCounts('Spending_Score')"
   ]
  },
  {
   "cell_type": "code",
   "execution_count": 9,
   "metadata": {},
   "outputs": [
    {
     "data": {
      "text/plain": [
       "Ever_Married\n",
       "Yes    4643\n",
       "No     3285\n",
       "Name: count, dtype: int64"
      ]
     },
     "execution_count": 9,
     "metadata": {},
     "output_type": "execute_result"
    }
   ],
   "source": [
    "dataLoad.valueCounts('Ever_Married')"
   ]
  },
  {
   "cell_type": "code",
   "execution_count": 10,
   "metadata": {},
   "outputs": [
    {
     "name": "stdout",
     "output_type": "stream",
     "text": [
      "829\n"
     ]
    }
   ],
   "source": [
    "dataLoad.naCheck('Work_Experience')"
   ]
  },
  {
   "cell_type": "code",
   "execution_count": 11,
   "metadata": {},
   "outputs": [
    {
     "data": {
      "image/png": "[encoded data removed]",
      "text/plain": [
       "<Figure size 640x480 with 1 Axes>"
      ]
     },
     "metadata": {},
     "output_type": "display_data"
    }
   ],
   "source": [
    "dataLoad.outlierCheck('Age')"
   ]
  },
  {
   "cell_type": "markdown",
   "metadata": {},
   "source": [
    "Data split and missing values"
   ]
  },
  {
   "cell_type": "code",
   "execution_count": 12,
   "metadata": {},
   "outputs": [
    {
     "name": "stdout",
     "output_type": "stream",
     "text": [
      "X_train : (6454, 9)\n",
      "X_test : (1614, 9)\n",
      "y_train : (6454,)\n",
      "y_test : (1614,)\n",
      "<class 'pandas.core.frame.DataFrame'>\n",
      "Index: 6454 entries, 2821 to 7270\n",
      "Data columns (total 9 columns):\n",
      " #   Column           Non-Null Count  Dtype  \n",
      "---  ------           --------------  -----  \n",
      " 0   ID               6454 non-null   int64  \n",
      " 1   Gender           6454 non-null   int32  \n",
      " 2   Ever_Married     6454 non-null   int32  \n",
      " 3   Age              6454 non-null   int64  \n",
      " 4   Graduated        6454 non-null   int32  \n",
      " 5   Profession       6454 non-null   int32  \n",
      " 6   Work_Experience  5795 non-null   float64\n",
      " 7   Spending_Score   6454 non-null   int32  \n",
      " 8   Family_Size      6194 non-null   float64\n",
      "dtypes: float64(2), int32(5), int64(2)\n",
      "memory usage: 378.2 KB\n",
      "None\n"
     ]
    }
   ],
   "source": [
    "#Data split \n",
    "PreProcess = preprocess(X,y)\n",
    "\n",
    "PreProcess.split()\n",
    "PreProcess.labelEncoder('Gender')\n",
    "PreProcess.labelEncoder('Ever_Married')\n",
    "PreProcess.labelEncoder('Graduated')\n",
    "PreProcess.labelEncoder('Spending_Score')\n",
    "PreProcess.labelEncoder('Profession')\n",
    "\n",
    "print(PreProcess.X_train.info())"
   ]
  },
  {
   "cell_type": "code",
   "execution_count": 13,
   "metadata": {},
   "outputs": [
    {
     "data": {
      "text/plain": [
       "ID                 0\n",
       "Gender             0\n",
       "Ever_Married       0\n",
       "Age                0\n",
       "Graduated          0\n",
       "Profession         0\n",
       "Work_Experience    0\n",
       "Spending_Score     0\n",
       "Family_Size        0\n",
       "dtype: int64"
      ]
     },
     "execution_count": 13,
     "metadata": {},
     "output_type": "execute_result"
    }
   ],
   "source": [
    "PreProcess.replaceNA(target_column='Ever_Married', method = 'mean')\n",
    "PreProcess.replaceNA(target_column='Graduated', method = 'median')\n",
    "PreProcess.replaceNA(target_column='Work_Experience', method = 'mean')\n",
    "PreProcess.replaceNA(target_column='Profession', method = 'mean')\n",
    "PreProcess.replaceNA(target_column='Family_Size', method = 'median')\n",
    "\n",
    "X_train = PreProcess.X_train\n",
    "X_test = PreProcess.X_test\n",
    "y_train = PreProcess.y_train\n",
    "y_test = PreProcess.y_test\n",
    "\n",
    "X_train.isna().sum()"
   ]
  },
  {
   "cell_type": "code",
   "execution_count": 15,
   "metadata": {},
   "outputs": [
    {
     "name": "stdout",
     "output_type": "stream",
     "text": [
      "\n",
      "Classification Report\n",
      "\n",
      "              precision    recall  f1-score   support\n",
      "\n",
      "           A       0.33      0.30      0.32       391\n",
      "           B       0.33      0.34      0.34       369\n",
      "           C       0.44      0.47      0.45       380\n",
      "           D       0.60      0.59      0.59       474\n",
      "\n",
      "    accuracy                           0.44      1614\n",
      "   macro avg       0.42      0.43      0.43      1614\n",
      "weighted avg       0.43      0.44      0.44      1614\n",
      "\n"
     ]
    }
   ],
   "source": [
    "model = Model(X_train, X_test, y_train, y_test)\n",
    "model.DecisionTree()\n",
    "model.evaluation()"
   ]
  }
 ],
 "metadata": {
  "kernelspec": {
   "display_name": "Python 3",
   "language": "python",
   "name": "python3"
  },
  "language_info": {
   "codemirror_mode": {
    "name": "ipython",
    "version": 3
   },
   "file_extension": ".py",
   "mimetype": "text/x-python",
   "name": "python",
   "nbconvert_exporter": "python",
   "pygments_lexer": "ipython3",
   "version": "3.11.9"
  }
 },
 "nbformat": 4,
 "nbformat_minor": 2
}
